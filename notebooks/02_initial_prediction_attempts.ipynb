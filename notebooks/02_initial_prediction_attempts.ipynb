{
 "cells": [
  {
   "cell_type": "markdown",
   "metadata": {
    "heading_collapsed": true
   },
   "source": [
    "# Imports"
   ]
  },
  {
   "cell_type": "code",
   "execution_count": 4,
   "metadata": {
    "hidden": true
   },
   "outputs": [
    {
     "name": "stderr",
     "output_type": "stream",
     "text": [
      "Using Theano backend.\n"
     ]
    }
   ],
   "source": [
    "import pandas as pd\n",
    "import numpy as np\n",
    "import bcolz\n",
    "import random\n",
    "from importlib import reload\n",
    "from keras.applications.resnet50 import ResNet50\n",
    "from keras.applications.vgg16 import VGG16\n",
    "from keras.applications.resnet50 import preprocess_input\n",
    "from keras.preprocessing.image import ImageDataGenerator\n",
    "from keras.layers import Flatten\n",
    "from keras.layers import Dense\n",
    "from keras.layers import Conv2D\n",
    "from keras.layers import MaxPool2D\n",
    "from keras.layers import AveragePooling2D\n",
    "from keras.layers import Dropout\n",
    "from keras.layers import BatchNormalization\n",
    "from keras.layers import Input\n",
    "from keras.models import Model\n",
    "from keras.optimizers import Adam\n",
    "from sklearn import linear_model\n",
    "from sklearn import svm\n",
    "from sklearn.metrics import mean_squared_error\n",
    "from sklearn.model_selection import cross_val_score"
   ]
  },
  {
   "cell_type": "markdown",
   "metadata": {
    "heading_collapsed": true
   },
   "source": [
    "# Precalculate ResNet50 vecs"
   ]
  },
  {
   "cell_type": "code",
   "execution_count": 2,
   "metadata": {
    "hidden": true
   },
   "outputs": [],
   "source": [
    "resnet_model = ResNet50(include_top=False, input_shape=(3, 224, 224))"
   ]
  },
  {
   "cell_type": "code",
   "execution_count": 3,
   "metadata": {
    "hidden": true
   },
   "outputs": [],
   "source": [
    "def save_array(fname, arr): \n",
    "    c=bcolz.carray(arr, rootdir=fname, mode='w')\n",
    "    c.flush()\n",
    "    \n",
    "def load_array(fname): \n",
    "    return bcolz.open(fname)[:]\n",
    "\n",
    "def save_resnet_vecs(vec_fname, img_name_fname, folder):\n",
    "    gen = ImageDataGenerator(preprocessing_function=preprocess_input)\n",
    "    batches = gen.flow_from_directory(folder, \n",
    "                                      target_size=(224, 224), \n",
    "                                      batch_size=64, \n",
    "                                      class_mode=None,\n",
    "                                      shuffle=False)\n",
    "    vecs = resnet_model.predict_generator(batches, steps=(batches.samples + batches.batch_size) \n",
    "                                          // batches.batch_size)\n",
    "    save_array(vec_fname, vecs)\n",
    "    save_array(img_name_fname, batches.filenames)\n",
    "    \n",
    "def load_resnet_vecs(vec_fname, img_name_fname):\n",
    "    return load_array(img_name_fname), load_array(vec_fname)"
   ]
  },
  {
   "cell_type": "code",
   "execution_count": null,
   "metadata": {
    "hidden": true
   },
   "outputs": [],
   "source": [
    "save_resnet_vecs('vecs', 'img_name', '../data/labeled')"
   ]
  },
  {
   "cell_type": "markdown",
   "metadata": {
    "heading_collapsed": true
   },
   "source": [
    "# Finetune ResNet50"
   ]
  },
  {
   "cell_type": "markdown",
   "metadata": {
    "heading_collapsed": true,
    "hidden": true
   },
   "source": [
    "## Load data"
   ]
  },
  {
   "cell_type": "code",
   "execution_count": 5,
   "metadata": {
    "hidden": true
   },
   "outputs": [],
   "source": [
    "fnames, vecs = load_resnet_vecs('vecs', 'img_name')\n",
    "df = pd.read_csv('../data/labels.csv')\n",
    "\n",
    "labels = np.array([df[df['imgs'] == x[5:]].iat[0, 1] for x in fnames])\n",
    "np.random.seed(123)"
   ]
  },
  {
   "cell_type": "markdown",
   "metadata": {
    "heading_collapsed": true,
    "hidden": true
   },
   "source": [
    "## Training single neuron on top of resnet vectors"
   ]
  },
  {
   "cell_type": "markdown",
   "metadata": {
    "heading_collapsed": true,
    "hidden": true
   },
   "source": [
    "### Estimating validation error stability"
   ]
  },
  {
   "cell_type": "code",
   "execution_count": 222,
   "metadata": {
    "hidden": true
   },
   "outputs": [],
   "source": [
    "errors = []\n",
    "np.random.seed(123)\n",
    "for i in range(50):\n",
    "    idxs = np.arange(vecs.shape[0])\n",
    "    np.random.shuffle(idxs)\n",
    "    x_train = vecs[idxs][:-20]\n",
    "    y_train = labels[idxs][:-20]\n",
    "    x_test = vecs[idxs][-20:]\n",
    "    y_test = labels[idxs][-20:]\n",
    "    inp = Input(shape=(2048, 1, 1))\n",
    "    x = Flatten()(inp)\n",
    "    x = Dense(1)(x)\n",
    "    model = Model(inputs=inp, outputs=x)\n",
    "    batch_size = 16\n",
    "    model.compile(optimizer=Adam(lr=0.001), loss='mse')\n",
    "    model.fit(x_train, y_train, batch_size=batch_size, epochs=30, verbose=0)\n",
    "    errors.append(model.evaluate(x_test, y_test, verbose=0))"
   ]
  },
  {
   "cell_type": "code",
   "execution_count": 223,
   "metadata": {
    "hidden": true
   },
   "outputs": [
    {
     "data": {
      "text/plain": [
       "(1.9290200293064117, 0.98324587074633618)"
      ]
     },
     "execution_count": 223,
     "metadata": {},
     "output_type": "execute_result"
    }
   ],
   "source": [
    "np.mean(errors), np.std(errors)"
   ]
  },
  {
   "cell_type": "markdown",
   "metadata": {
    "heading_collapsed": true,
    "hidden": true
   },
   "source": [
    "### Training single model"
   ]
  },
  {
   "cell_type": "code",
   "execution_count": 195,
   "metadata": {
    "hidden": true
   },
   "outputs": [
    {
     "name": "stdout",
     "output_type": "stream",
     "text": [
      "Train on 175 samples, validate on 25 samples\n",
      "Epoch 1/30\n",
      "175/175 [==============================] - 0s - loss: 8.6968 - val_loss: 7.4721\n",
      "Epoch 2/30\n",
      "175/175 [==============================] - 0s - loss: 6.5714 - val_loss: 3.1279\n",
      "Epoch 3/30\n",
      "175/175 [==============================] - 0s - loss: 4.7415 - val_loss: 3.6431\n",
      "Epoch 4/30\n",
      "175/175 [==============================] - 0s - loss: 4.0315 - val_loss: 3.3068\n",
      "Epoch 5/30\n",
      "175/175 [==============================] - 0s - loss: 3.8258 - val_loss: 2.7392\n",
      "Epoch 6/30\n",
      "175/175 [==============================] - 0s - loss: 3.3161 - val_loss: 2.4167\n",
      "Epoch 7/30\n",
      "175/175 [==============================] - 0s - loss: 3.1926 - val_loss: 2.2984\n",
      "Epoch 8/30\n",
      "175/175 [==============================] - 0s - loss: 3.1278 - val_loss: 2.3565\n",
      "Epoch 9/30\n",
      "175/175 [==============================] - 0s - loss: 2.8444 - val_loss: 2.0184\n",
      "Epoch 10/30\n",
      "175/175 [==============================] - 0s - loss: 2.6886 - val_loss: 2.0313\n",
      "Epoch 11/30\n",
      "175/175 [==============================] - 0s - loss: 2.5431 - val_loss: 1.9122\n",
      "Epoch 12/30\n",
      "175/175 [==============================] - 0s - loss: 2.4096 - val_loss: 1.8171\n",
      "Epoch 13/30\n",
      "175/175 [==============================] - 0s - loss: 2.3024 - val_loss: 1.8435\n",
      "Epoch 14/30\n",
      "175/175 [==============================] - 0s - loss: 2.1966 - val_loss: 1.7771\n",
      "Epoch 15/30\n",
      "175/175 [==============================] - 0s - loss: 2.1166 - val_loss: 1.7536\n",
      "Epoch 16/30\n",
      "175/175 [==============================] - 0s - loss: 2.0388 - val_loss: 1.7315\n",
      "Epoch 17/30\n",
      "175/175 [==============================] - 0s - loss: 1.9695 - val_loss: 1.6712\n",
      "Epoch 18/30\n",
      "175/175 [==============================] - 0s - loss: 1.8924 - val_loss: 1.7064\n",
      "Epoch 19/30\n",
      "175/175 [==============================] - 0s - loss: 1.8581 - val_loss: 1.6847\n",
      "Epoch 20/30\n",
      "175/175 [==============================] - 0s - loss: 1.7785 - val_loss: 1.6289\n",
      "Epoch 21/30\n",
      "175/175 [==============================] - 0s - loss: 1.7375 - val_loss: 1.7452\n",
      "Epoch 22/30\n",
      "175/175 [==============================] - 0s - loss: 1.6975 - val_loss: 1.6239\n",
      "Epoch 23/30\n",
      "175/175 [==============================] - 0s - loss: 1.6602 - val_loss: 1.5922\n",
      "Epoch 24/30\n",
      "175/175 [==============================] - 0s - loss: 1.5981 - val_loss: 1.6741\n",
      "Epoch 25/30\n",
      "175/175 [==============================] - 0s - loss: 1.5584 - val_loss: 1.6009\n",
      "Epoch 26/30\n",
      "175/175 [==============================] - 0s - loss: 1.5799 - val_loss: 1.6330\n",
      "Epoch 27/30\n",
      "175/175 [==============================] - 0s - loss: 1.5276 - val_loss: 1.6808\n",
      "Epoch 28/30\n",
      "175/175 [==============================] - 0s - loss: 1.4644 - val_loss: 1.5470\n",
      "Epoch 29/30\n",
      "175/175 [==============================] - 0s - loss: 1.4322 - val_loss: 1.7636\n",
      "Epoch 30/30\n",
      "175/175 [==============================] - 0s - loss: 1.4776 - val_loss: 1.5131\n"
     ]
    },
    {
     "data": {
      "text/plain": [
       "<keras.callbacks.History at 0x7fc9673b62b0>"
      ]
     },
     "execution_count": 195,
     "metadata": {},
     "output_type": "execute_result"
    }
   ],
   "source": [
    "batch_size = 32\n",
    "model.compile(optimizer=Adam(lr=0.001), loss='mse')\n",
    "model.fit(vecs[:-25], labels[:-25], validation_data=(vecs[-25:], labels[-25:]), batch_size=batch_size, epochs=30)"
   ]
  },
  {
   "cell_type": "markdown",
   "metadata": {
    "heading_collapsed": true,
    "hidden": true
   },
   "source": [
    "### Checking predictions"
   ]
  },
  {
   "cell_type": "code",
   "execution_count": 199,
   "metadata": {
    "hidden": true
   },
   "outputs": [
    {
     "name": "stdout",
     "output_type": "stream",
     "text": [
      "25/25 [==============================] - 0s\n"
     ]
    },
    {
     "data": {
      "text/plain": [
       "1.5130581855773926"
      ]
     },
     "execution_count": 199,
     "metadata": {},
     "output_type": "execute_result"
    }
   ],
   "source": [
    "model.evaluate(vecs[-25:], labels[-25:])"
   ]
  },
  {
   "cell_type": "code",
   "execution_count": 145,
   "metadata": {
    "hidden": true
   },
   "outputs": [
    {
     "data": {
      "text/html": [
       "<div>\n",
       "<style>\n",
       "    .dataframe thead tr:only-child th {\n",
       "        text-align: right;\n",
       "    }\n",
       "\n",
       "    .dataframe thead th {\n",
       "        text-align: left;\n",
       "    }\n",
       "\n",
       "    .dataframe tbody tr th {\n",
       "        vertical-align: top;\n",
       "    }\n",
       "</style>\n",
       "<table border=\"1\" class=\"dataframe\">\n",
       "  <thead>\n",
       "    <tr style=\"text-align: right;\">\n",
       "      <th></th>\n",
       "      <th>abs</th>\n",
       "      <th>fname</th>\n",
       "      <th>label</th>\n",
       "      <th>predict</th>\n",
       "    </tr>\n",
       "  </thead>\n",
       "  <tbody>\n",
       "    <tr>\n",
       "      <th>15</th>\n",
       "      <td>0.004653</td>\n",
       "      <td>imgs/20170920163402.jpg</td>\n",
       "      <td>3</td>\n",
       "      <td>3.004653</td>\n",
       "    </tr>\n",
       "    <tr>\n",
       "      <th>22</th>\n",
       "      <td>0.017748</td>\n",
       "      <td>imgs/20170906201015.jpg</td>\n",
       "      <td>3</td>\n",
       "      <td>3.017748</td>\n",
       "    </tr>\n",
       "    <tr>\n",
       "      <th>24</th>\n",
       "      <td>0.026531</td>\n",
       "      <td>imgs/20170912210045.jpg</td>\n",
       "      <td>0</td>\n",
       "      <td>0.026531</td>\n",
       "    </tr>\n",
       "    <tr>\n",
       "      <th>12</th>\n",
       "      <td>0.128895</td>\n",
       "      <td>imgs/20170921101101.jpg</td>\n",
       "      <td>2</td>\n",
       "      <td>2.128895</td>\n",
       "    </tr>\n",
       "    <tr>\n",
       "      <th>17</th>\n",
       "      <td>0.181843</td>\n",
       "      <td>imgs/20170918171101.jpg</td>\n",
       "      <td>3</td>\n",
       "      <td>3.181843</td>\n",
       "    </tr>\n",
       "    <tr>\n",
       "      <th>6</th>\n",
       "      <td>0.244945</td>\n",
       "      <td>imgs/20170911184045.jpg</td>\n",
       "      <td>4</td>\n",
       "      <td>4.244945</td>\n",
       "    </tr>\n",
       "    <tr>\n",
       "      <th>8</th>\n",
       "      <td>0.295847</td>\n",
       "      <td>imgs/20170907131701.jpg</td>\n",
       "      <td>0</td>\n",
       "      <td>0.295847</td>\n",
       "    </tr>\n",
       "    <tr>\n",
       "      <th>13</th>\n",
       "      <td>0.297246</td>\n",
       "      <td>imgs/20170911182945.jpg</td>\n",
       "      <td>4</td>\n",
       "      <td>4.297246</td>\n",
       "    </tr>\n",
       "    <tr>\n",
       "      <th>0</th>\n",
       "      <td>0.300162</td>\n",
       "      <td>imgs/20170918195731.jpg</td>\n",
       "      <td>5</td>\n",
       "      <td>5.300162</td>\n",
       "    </tr>\n",
       "    <tr>\n",
       "      <th>10</th>\n",
       "      <td>0.308294</td>\n",
       "      <td>imgs/20170913141230.jpg</td>\n",
       "      <td>2</td>\n",
       "      <td>1.691706</td>\n",
       "    </tr>\n",
       "    <tr>\n",
       "      <th>11</th>\n",
       "      <td>0.432190</td>\n",
       "      <td>imgs/20170916095745.jpg</td>\n",
       "      <td>2</td>\n",
       "      <td>2.432190</td>\n",
       "    </tr>\n",
       "    <tr>\n",
       "      <th>16</th>\n",
       "      <td>0.446843</td>\n",
       "      <td>imgs/20170911120900.jpg</td>\n",
       "      <td>0</td>\n",
       "      <td>0.446843</td>\n",
       "    </tr>\n",
       "    <tr>\n",
       "      <th>4</th>\n",
       "      <td>0.475730</td>\n",
       "      <td>imgs/20170920140445.jpg</td>\n",
       "      <td>0</td>\n",
       "      <td>0.475730</td>\n",
       "    </tr>\n",
       "    <tr>\n",
       "      <th>1</th>\n",
       "      <td>0.575532</td>\n",
       "      <td>imgs/20170916143615.jpg</td>\n",
       "      <td>3</td>\n",
       "      <td>2.424468</td>\n",
       "    </tr>\n",
       "    <tr>\n",
       "      <th>7</th>\n",
       "      <td>0.808052</td>\n",
       "      <td>imgs/20170908134145.jpg</td>\n",
       "      <td>3</td>\n",
       "      <td>2.191948</td>\n",
       "    </tr>\n",
       "    <tr>\n",
       "      <th>20</th>\n",
       "      <td>0.815203</td>\n",
       "      <td>imgs/20170906190400.jpg</td>\n",
       "      <td>1</td>\n",
       "      <td>1.815203</td>\n",
       "    </tr>\n",
       "    <tr>\n",
       "      <th>21</th>\n",
       "      <td>1.027871</td>\n",
       "      <td>imgs/20170909134646.jpg</td>\n",
       "      <td>0</td>\n",
       "      <td>1.027871</td>\n",
       "    </tr>\n",
       "    <tr>\n",
       "      <th>14</th>\n",
       "      <td>1.048440</td>\n",
       "      <td>imgs/20170911184815.jpg</td>\n",
       "      <td>3</td>\n",
       "      <td>4.048440</td>\n",
       "    </tr>\n",
       "    <tr>\n",
       "      <th>23</th>\n",
       "      <td>1.139865</td>\n",
       "      <td>imgs/20170911122730.jpg</td>\n",
       "      <td>2</td>\n",
       "      <td>3.139865</td>\n",
       "    </tr>\n",
       "    <tr>\n",
       "      <th>3</th>\n",
       "      <td>1.150514</td>\n",
       "      <td>imgs/20170913102215.jpg</td>\n",
       "      <td>0</td>\n",
       "      <td>1.150514</td>\n",
       "    </tr>\n",
       "    <tr>\n",
       "      <th>18</th>\n",
       "      <td>1.870556</td>\n",
       "      <td>imgs/20170909164415.jpg</td>\n",
       "      <td>2</td>\n",
       "      <td>3.870556</td>\n",
       "    </tr>\n",
       "    <tr>\n",
       "      <th>19</th>\n",
       "      <td>1.987935</td>\n",
       "      <td>imgs/20170913090000.jpg</td>\n",
       "      <td>1</td>\n",
       "      <td>2.987935</td>\n",
       "    </tr>\n",
       "    <tr>\n",
       "      <th>2</th>\n",
       "      <td>2.054905</td>\n",
       "      <td>imgs/20170916142530.jpg</td>\n",
       "      <td>3</td>\n",
       "      <td>0.945095</td>\n",
       "    </tr>\n",
       "    <tr>\n",
       "      <th>9</th>\n",
       "      <td>2.341897</td>\n",
       "      <td>imgs/20170913200130.jpg</td>\n",
       "      <td>6</td>\n",
       "      <td>3.658103</td>\n",
       "    </tr>\n",
       "    <tr>\n",
       "      <th>5</th>\n",
       "      <td>3.142360</td>\n",
       "      <td>imgs/20170907202800.jpg</td>\n",
       "      <td>8</td>\n",
       "      <td>4.857640</td>\n",
       "    </tr>\n",
       "  </tbody>\n",
       "</table>\n",
       "</div>"
      ],
      "text/plain": [
       "         abs                    fname  label   predict\n",
       "15  0.004653  imgs/20170920163402.jpg      3  3.004653\n",
       "22  0.017748  imgs/20170906201015.jpg      3  3.017748\n",
       "24  0.026531  imgs/20170912210045.jpg      0  0.026531\n",
       "12  0.128895  imgs/20170921101101.jpg      2  2.128895\n",
       "17  0.181843  imgs/20170918171101.jpg      3  3.181843\n",
       "6   0.244945  imgs/20170911184045.jpg      4  4.244945\n",
       "8   0.295847  imgs/20170907131701.jpg      0  0.295847\n",
       "13  0.297246  imgs/20170911182945.jpg      4  4.297246\n",
       "0   0.300162  imgs/20170918195731.jpg      5  5.300162\n",
       "10  0.308294  imgs/20170913141230.jpg      2  1.691706\n",
       "11  0.432190  imgs/20170916095745.jpg      2  2.432190\n",
       "16  0.446843  imgs/20170911120900.jpg      0  0.446843\n",
       "4   0.475730  imgs/20170920140445.jpg      0  0.475730\n",
       "1   0.575532  imgs/20170916143615.jpg      3  2.424468\n",
       "7   0.808052  imgs/20170908134145.jpg      3  2.191948\n",
       "20  0.815203  imgs/20170906190400.jpg      1  1.815203\n",
       "21  1.027871  imgs/20170909134646.jpg      0  1.027871\n",
       "14  1.048440  imgs/20170911184815.jpg      3  4.048440\n",
       "23  1.139865  imgs/20170911122730.jpg      2  3.139865\n",
       "3   1.150514  imgs/20170913102215.jpg      0  1.150514\n",
       "18  1.870556  imgs/20170909164415.jpg      2  3.870556\n",
       "19  1.987935  imgs/20170913090000.jpg      1  2.987935\n",
       "2   2.054905  imgs/20170916142530.jpg      3  0.945095\n",
       "9   2.341897  imgs/20170913200130.jpg      6  3.658103\n",
       "5   3.142360  imgs/20170907202800.jpg      8  4.857640"
      ]
     },
     "execution_count": 145,
     "metadata": {},
     "output_type": "execute_result"
    }
   ],
   "source": [
    "preds = np.ravel(model.predict(vecs[-25:]))\n",
    "pd.DataFrame({'abs':np.abs(preds - labels[-25:]), \n",
    "              'fname': fnames[-25:], 'label': labels[-25:], 'predict': preds}).sort_values('abs')\n"
   ]
  },
  {
   "cell_type": "markdown",
   "metadata": {
    "heading_collapsed": true,
    "hidden": true
   },
   "source": [
    "### MSE for prediction mean target"
   ]
  },
  {
   "cell_type": "code",
   "execution_count": 6,
   "metadata": {
    "hidden": true
   },
   "outputs": [
    {
     "data": {
      "text/plain": [
       "5.2555999999999994"
      ]
     },
     "execution_count": 6,
     "metadata": {},
     "output_type": "execute_result"
    }
   ],
   "source": [
    "np.mean((np.square(labels - np.mean(labels))))"
   ]
  },
  {
   "cell_type": "markdown",
   "metadata": {
    "heading_collapsed": true,
    "hidden": true
   },
   "source": [
    "## Train linear model on top of resnet vectors"
   ]
  },
  {
   "cell_type": "code",
   "execution_count": 310,
   "metadata": {
    "hidden": true
   },
   "outputs": [],
   "source": [
    "vecs_lin = vecs.reshape(200, 2048)"
   ]
  },
  {
   "cell_type": "code",
   "execution_count": 344,
   "metadata": {
    "hidden": true
   },
   "outputs": [
    {
     "data": {
      "text/plain": [
       "(array([-1.48226493, -2.12800788, -1.31995179, -3.30496117, -1.11939934]),\n",
       " -1.8709170235018568,\n",
       " 0.79271309996396244)"
      ]
     },
     "execution_count": 344,
     "metadata": {},
     "output_type": "execute_result"
    }
   ],
   "source": [
    "regr = linear_model.Lasso(alpha = 0.05)\n",
    "scores = cross_val_score(regr, vecs_lin, labels, cv=5, scoring='neg_mean_squared_error')\n",
    "scores, np.mean(scores), np.std(scores)"
   ]
  },
  {
   "cell_type": "code",
   "execution_count": 347,
   "metadata": {
    "hidden": true
   },
   "outputs": [
    {
     "data": {
      "text/plain": [
       "(array([-1.73242223, -2.06044628, -1.27759137, -3.6614439 , -1.11374428]),\n",
       " -1.9691296113420385,\n",
       " 0.90974787362679765)"
      ]
     },
     "execution_count": 347,
     "metadata": {},
     "output_type": "execute_result"
    }
   ],
   "source": [
    "regr = linear_model.Lasso(alpha = 0.1)\n",
    "scores = cross_val_score(regr, vecs_lin, labels, cv=5, scoring='neg_mean_squared_error')\n",
    "scores, np.mean(scores), np.std(scores)"
   ]
  },
  {
   "cell_type": "code",
   "execution_count": 272,
   "metadata": {
    "hidden": true
   },
   "outputs": [
    {
     "data": {
      "text/plain": [
       "(array([-1.58147576, -2.10362221, -1.29454972, -3.42746844, -1.09528648]),\n",
       " -1.9004805205266286,\n",
       " 0.83548934958463994)"
      ]
     },
     "execution_count": 272,
     "metadata": {},
     "output_type": "execute_result"
    }
   ],
   "source": [
    "regr = linear_model.Lasso(alpha = 0.07)\n",
    "scores = cross_val_score(regr, vecs_lin, labels, cv=5, scoring='neg_mean_squared_error')\n",
    "scores, np.mean(scores), np.std(scores)"
   ]
  },
  {
   "cell_type": "code",
   "execution_count": 359,
   "metadata": {
    "hidden": true
   },
   "outputs": [
    {
     "data": {
      "text/plain": [
       "(array([-1.32685227, -2.11493647, -1.20068443, -3.19762256, -1.125603  ]),\n",
       " -1.7931397428766136,\n",
       " 0.78614982423876145)"
      ]
     },
     "execution_count": 359,
     "metadata": {},
     "output_type": "execute_result"
    }
   ],
   "source": [
    "regr = linear_model.Ridge(alpha = 200)\n",
    "scores = cross_val_score(regr, vecs_lin, labels, cv=5, scoring='neg_mean_squared_error')\n",
    "scores, np.mean(scores), np.std(scores)"
   ]
  },
  {
   "cell_type": "code",
   "execution_count": 360,
   "metadata": {
    "hidden": true
   },
   "outputs": [
    {
     "data": {
      "text/plain": [
       "Ridge(alpha=200, copy_X=True, fit_intercept=True, max_iter=None,\n",
       "   normalize=False, random_state=None, solver='auto', tol=0.001)"
      ]
     },
     "execution_count": 360,
     "metadata": {},
     "output_type": "execute_result"
    }
   ],
   "source": [
    "regr.fit(vecs_lin, labels)"
   ]
  },
  {
   "cell_type": "code",
   "execution_count": 361,
   "metadata": {
    "hidden": true
   },
   "outputs": [
    {
     "data": {
      "text/plain": [
       "1.0110379412439496"
      ]
     },
     "execution_count": 361,
     "metadata": {},
     "output_type": "execute_result"
    }
   ],
   "source": [
    "mean_squared_error(labels, regr.predict(vecs_lin))"
   ]
  },
  {
   "cell_type": "markdown",
   "metadata": {
    "heading_collapsed": true,
    "hidden": true
   },
   "source": [
    "## Train SVM regression on top of resnet vectors "
   ]
  },
  {
   "cell_type": "code",
   "execution_count": 358,
   "metadata": {
    "hidden": true
   },
   "outputs": [
    {
     "data": {
      "text/plain": [
       "(array([-2.54821538, -2.88886956, -1.2938378 , -5.1070622 , -1.96383601]),\n",
       " -2.7603641874476441,\n",
       " 1.2925686888970245)"
      ]
     },
     "execution_count": 358,
     "metadata": {},
     "output_type": "execute_result"
    }
   ],
   "source": [
    "svr = svm.SVR(C=1, kernel='poly', degree=2)\n",
    "\n",
    "scores = cross_val_score(svr, vecs_lin, labels, cv=5, scoring='neg_mean_squared_error')\n",
    "scores, np.mean(scores), np.std(scores)"
   ]
  },
  {
   "cell_type": "code",
   "execution_count": 328,
   "metadata": {
    "hidden": true
   },
   "outputs": [
    {
     "data": {
      "text/plain": [
       "1.1060901904407299"
      ]
     },
     "execution_count": 328,
     "metadata": {},
     "output_type": "execute_result"
    }
   ],
   "source": [
    "svr.fit(vecs_lin, labels)\n",
    "mean_squared_error(labels, svr.predict(vecs_lin))"
   ]
  },
  {
   "cell_type": "markdown",
   "metadata": {
    "heading_collapsed": true,
    "hidden": true
   },
   "source": [
    "## Training on vectors from intermediate Conv layer"
   ]
  },
  {
   "cell_type": "code",
   "execution_count": 283,
   "metadata": {
    "hidden": true
   },
   "outputs": [
    {
     "name": "stdout",
     "output_type": "stream",
     "text": [
      "____________________________________________________________________________________________________\n",
      "Layer (type)                     Output Shape          Param #     Connected to                     \n",
      "====================================================================================================\n",
      "input_1 (InputLayer)             (None, 3, 224, 224)   0                                            \n",
      "____________________________________________________________________________________________________\n",
      "conv1 (Conv2D)                   (None, 64, 112, 112)  9472        input_1[0][0]                    \n",
      "____________________________________________________________________________________________________\n",
      "bn_conv1 (BatchNormalization)    (None, 64, 112, 112)  256         conv1[0][0]                      \n",
      "____________________________________________________________________________________________________\n",
      "activation_1 (Activation)        (None, 64, 112, 112)  0           bn_conv1[0][0]                   \n",
      "____________________________________________________________________________________________________\n",
      "max_pooling2d_1 (MaxPooling2D)   (None, 64, 55, 55)    0           activation_1[0][0]               \n",
      "____________________________________________________________________________________________________\n",
      "res2a_branch2a (Conv2D)          (None, 64, 55, 55)    4160        max_pooling2d_1[0][0]            \n",
      "____________________________________________________________________________________________________\n",
      "bn2a_branch2a (BatchNormalizatio (None, 64, 55, 55)    256         res2a_branch2a[0][0]             \n",
      "____________________________________________________________________________________________________\n",
      "activation_2 (Activation)        (None, 64, 55, 55)    0           bn2a_branch2a[0][0]              \n",
      "____________________________________________________________________________________________________\n",
      "res2a_branch2b (Conv2D)          (None, 64, 55, 55)    36928       activation_2[0][0]               \n",
      "____________________________________________________________________________________________________\n",
      "bn2a_branch2b (BatchNormalizatio (None, 64, 55, 55)    256         res2a_branch2b[0][0]             \n",
      "____________________________________________________________________________________________________\n",
      "activation_3 (Activation)        (None, 64, 55, 55)    0           bn2a_branch2b[0][0]              \n",
      "____________________________________________________________________________________________________\n",
      "res2a_branch2c (Conv2D)          (None, 256, 55, 55)   16640       activation_3[0][0]               \n",
      "____________________________________________________________________________________________________\n",
      "res2a_branch1 (Conv2D)           (None, 256, 55, 55)   16640       max_pooling2d_1[0][0]            \n",
      "____________________________________________________________________________________________________\n",
      "bn2a_branch2c (BatchNormalizatio (None, 256, 55, 55)   1024        res2a_branch2c[0][0]             \n",
      "____________________________________________________________________________________________________\n",
      "bn2a_branch1 (BatchNormalization (None, 256, 55, 55)   1024        res2a_branch1[0][0]              \n",
      "____________________________________________________________________________________________________\n",
      "add_1 (Add)                      (None, 256, 55, 55)   0           bn2a_branch2c[0][0]              \n",
      "                                                                   bn2a_branch1[0][0]               \n",
      "____________________________________________________________________________________________________\n",
      "activation_4 (Activation)        (None, 256, 55, 55)   0           add_1[0][0]                      \n",
      "____________________________________________________________________________________________________\n",
      "res2b_branch2a (Conv2D)          (None, 64, 55, 55)    16448       activation_4[0][0]               \n",
      "____________________________________________________________________________________________________\n",
      "bn2b_branch2a (BatchNormalizatio (None, 64, 55, 55)    256         res2b_branch2a[0][0]             \n",
      "____________________________________________________________________________________________________\n",
      "activation_5 (Activation)        (None, 64, 55, 55)    0           bn2b_branch2a[0][0]              \n",
      "____________________________________________________________________________________________________\n",
      "res2b_branch2b (Conv2D)          (None, 64, 55, 55)    36928       activation_5[0][0]               \n",
      "____________________________________________________________________________________________________\n",
      "bn2b_branch2b (BatchNormalizatio (None, 64, 55, 55)    256         res2b_branch2b[0][0]             \n",
      "____________________________________________________________________________________________________\n",
      "activation_6 (Activation)        (None, 64, 55, 55)    0           bn2b_branch2b[0][0]              \n",
      "____________________________________________________________________________________________________\n",
      "res2b_branch2c (Conv2D)          (None, 256, 55, 55)   16640       activation_6[0][0]               \n",
      "____________________________________________________________________________________________________\n",
      "bn2b_branch2c (BatchNormalizatio (None, 256, 55, 55)   1024        res2b_branch2c[0][0]             \n",
      "____________________________________________________________________________________________________\n",
      "add_2 (Add)                      (None, 256, 55, 55)   0           bn2b_branch2c[0][0]              \n",
      "                                                                   activation_4[0][0]               \n",
      "____________________________________________________________________________________________________\n",
      "activation_7 (Activation)        (None, 256, 55, 55)   0           add_2[0][0]                      \n",
      "____________________________________________________________________________________________________\n",
      "res2c_branch2a (Conv2D)          (None, 64, 55, 55)    16448       activation_7[0][0]               \n",
      "____________________________________________________________________________________________________\n",
      "bn2c_branch2a (BatchNormalizatio (None, 64, 55, 55)    256         res2c_branch2a[0][0]             \n",
      "____________________________________________________________________________________________________\n",
      "activation_8 (Activation)        (None, 64, 55, 55)    0           bn2c_branch2a[0][0]              \n",
      "____________________________________________________________________________________________________\n",
      "res2c_branch2b (Conv2D)          (None, 64, 55, 55)    36928       activation_8[0][0]               \n",
      "____________________________________________________________________________________________________\n",
      "bn2c_branch2b (BatchNormalizatio (None, 64, 55, 55)    256         res2c_branch2b[0][0]             \n",
      "____________________________________________________________________________________________________\n",
      "activation_9 (Activation)        (None, 64, 55, 55)    0           bn2c_branch2b[0][0]              \n",
      "____________________________________________________________________________________________________\n",
      "res2c_branch2c (Conv2D)          (None, 256, 55, 55)   16640       activation_9[0][0]               \n",
      "____________________________________________________________________________________________________\n",
      "bn2c_branch2c (BatchNormalizatio (None, 256, 55, 55)   1024        res2c_branch2c[0][0]             \n",
      "____________________________________________________________________________________________________\n",
      "add_3 (Add)                      (None, 256, 55, 55)   0           bn2c_branch2c[0][0]              \n",
      "                                                                   activation_7[0][0]               \n",
      "____________________________________________________________________________________________________\n",
      "activation_10 (Activation)       (None, 256, 55, 55)   0           add_3[0][0]                      \n",
      "____________________________________________________________________________________________________\n",
      "res3a_branch2a (Conv2D)          (None, 128, 28, 28)   32896       activation_10[0][0]              \n",
      "____________________________________________________________________________________________________\n",
      "bn3a_branch2a (BatchNormalizatio (None, 128, 28, 28)   512         res3a_branch2a[0][0]             \n",
      "____________________________________________________________________________________________________\n",
      "activation_11 (Activation)       (None, 128, 28, 28)   0           bn3a_branch2a[0][0]              \n",
      "____________________________________________________________________________________________________\n",
      "res3a_branch2b (Conv2D)          (None, 128, 28, 28)   147584      activation_11[0][0]              \n",
      "____________________________________________________________________________________________________\n"
     ]
    },
    {
     "name": "stdout",
     "output_type": "stream",
     "text": [
      "bn3a_branch2b (BatchNormalizatio (None, 128, 28, 28)   512         res3a_branch2b[0][0]             \n",
      "____________________________________________________________________________________________________\n",
      "activation_12 (Activation)       (None, 128, 28, 28)   0           bn3a_branch2b[0][0]              \n",
      "____________________________________________________________________________________________________\n",
      "res3a_branch2c (Conv2D)          (None, 512, 28, 28)   66048       activation_12[0][0]              \n",
      "____________________________________________________________________________________________________\n",
      "res3a_branch1 (Conv2D)           (None, 512, 28, 28)   131584      activation_10[0][0]              \n",
      "____________________________________________________________________________________________________\n",
      "bn3a_branch2c (BatchNormalizatio (None, 512, 28, 28)   2048        res3a_branch2c[0][0]             \n",
      "____________________________________________________________________________________________________\n",
      "bn3a_branch1 (BatchNormalization (None, 512, 28, 28)   2048        res3a_branch1[0][0]              \n",
      "____________________________________________________________________________________________________\n",
      "add_4 (Add)                      (None, 512, 28, 28)   0           bn3a_branch2c[0][0]              \n",
      "                                                                   bn3a_branch1[0][0]               \n",
      "____________________________________________________________________________________________________\n",
      "activation_13 (Activation)       (None, 512, 28, 28)   0           add_4[0][0]                      \n",
      "____________________________________________________________________________________________________\n",
      "res3b_branch2a (Conv2D)          (None, 128, 28, 28)   65664       activation_13[0][0]              \n",
      "____________________________________________________________________________________________________\n",
      "bn3b_branch2a (BatchNormalizatio (None, 128, 28, 28)   512         res3b_branch2a[0][0]             \n",
      "____________________________________________________________________________________________________\n",
      "activation_14 (Activation)       (None, 128, 28, 28)   0           bn3b_branch2a[0][0]              \n",
      "____________________________________________________________________________________________________\n",
      "res3b_branch2b (Conv2D)          (None, 128, 28, 28)   147584      activation_14[0][0]              \n",
      "____________________________________________________________________________________________________\n",
      "bn3b_branch2b (BatchNormalizatio (None, 128, 28, 28)   512         res3b_branch2b[0][0]             \n",
      "____________________________________________________________________________________________________\n",
      "activation_15 (Activation)       (None, 128, 28, 28)   0           bn3b_branch2b[0][0]              \n",
      "____________________________________________________________________________________________________\n",
      "res3b_branch2c (Conv2D)          (None, 512, 28, 28)   66048       activation_15[0][0]              \n",
      "____________________________________________________________________________________________________\n",
      "bn3b_branch2c (BatchNormalizatio (None, 512, 28, 28)   2048        res3b_branch2c[0][0]             \n",
      "____________________________________________________________________________________________________\n",
      "add_5 (Add)                      (None, 512, 28, 28)   0           bn3b_branch2c[0][0]              \n",
      "                                                                   activation_13[0][0]              \n",
      "____________________________________________________________________________________________________\n",
      "activation_16 (Activation)       (None, 512, 28, 28)   0           add_5[0][0]                      \n",
      "____________________________________________________________________________________________________\n",
      "res3c_branch2a (Conv2D)          (None, 128, 28, 28)   65664       activation_16[0][0]              \n",
      "____________________________________________________________________________________________________\n",
      "bn3c_branch2a (BatchNormalizatio (None, 128, 28, 28)   512         res3c_branch2a[0][0]             \n",
      "____________________________________________________________________________________________________\n",
      "activation_17 (Activation)       (None, 128, 28, 28)   0           bn3c_branch2a[0][0]              \n",
      "____________________________________________________________________________________________________\n",
      "res3c_branch2b (Conv2D)          (None, 128, 28, 28)   147584      activation_17[0][0]              \n",
      "____________________________________________________________________________________________________\n",
      "bn3c_branch2b (BatchNormalizatio (None, 128, 28, 28)   512         res3c_branch2b[0][0]             \n",
      "____________________________________________________________________________________________________\n",
      "activation_18 (Activation)       (None, 128, 28, 28)   0           bn3c_branch2b[0][0]              \n",
      "____________________________________________________________________________________________________\n",
      "res3c_branch2c (Conv2D)          (None, 512, 28, 28)   66048       activation_18[0][0]              \n",
      "____________________________________________________________________________________________________\n",
      "bn3c_branch2c (BatchNormalizatio (None, 512, 28, 28)   2048        res3c_branch2c[0][0]             \n",
      "____________________________________________________________________________________________________\n",
      "add_6 (Add)                      (None, 512, 28, 28)   0           bn3c_branch2c[0][0]              \n",
      "                                                                   activation_16[0][0]              \n",
      "____________________________________________________________________________________________________\n",
      "activation_19 (Activation)       (None, 512, 28, 28)   0           add_6[0][0]                      \n",
      "____________________________________________________________________________________________________\n",
      "res3d_branch2a (Conv2D)          (None, 128, 28, 28)   65664       activation_19[0][0]              \n",
      "____________________________________________________________________________________________________\n",
      "bn3d_branch2a (BatchNormalizatio (None, 128, 28, 28)   512         res3d_branch2a[0][0]             \n",
      "____________________________________________________________________________________________________\n",
      "activation_20 (Activation)       (None, 128, 28, 28)   0           bn3d_branch2a[0][0]              \n",
      "____________________________________________________________________________________________________\n",
      "res3d_branch2b (Conv2D)          (None, 128, 28, 28)   147584      activation_20[0][0]              \n",
      "____________________________________________________________________________________________________\n",
      "bn3d_branch2b (BatchNormalizatio (None, 128, 28, 28)   512         res3d_branch2b[0][0]             \n",
      "____________________________________________________________________________________________________\n",
      "activation_21 (Activation)       (None, 128, 28, 28)   0           bn3d_branch2b[0][0]              \n",
      "____________________________________________________________________________________________________\n",
      "res3d_branch2c (Conv2D)          (None, 512, 28, 28)   66048       activation_21[0][0]              \n",
      "____________________________________________________________________________________________________\n",
      "bn3d_branch2c (BatchNormalizatio (None, 512, 28, 28)   2048        res3d_branch2c[0][0]             \n",
      "____________________________________________________________________________________________________\n",
      "add_7 (Add)                      (None, 512, 28, 28)   0           bn3d_branch2c[0][0]              \n",
      "                                                                   activation_19[0][0]              \n",
      "____________________________________________________________________________________________________\n",
      "activation_22 (Activation)       (None, 512, 28, 28)   0           add_7[0][0]                      \n",
      "____________________________________________________________________________________________________\n",
      "res4a_branch2a (Conv2D)          (None, 256, 14, 14)   131328      activation_22[0][0]              \n",
      "____________________________________________________________________________________________________\n"
     ]
    },
    {
     "name": "stdout",
     "output_type": "stream",
     "text": [
      "bn4a_branch2a (BatchNormalizatio (None, 256, 14, 14)   1024        res4a_branch2a[0][0]             \n",
      "____________________________________________________________________________________________________\n",
      "activation_23 (Activation)       (None, 256, 14, 14)   0           bn4a_branch2a[0][0]              \n",
      "____________________________________________________________________________________________________\n",
      "res4a_branch2b (Conv2D)          (None, 256, 14, 14)   590080      activation_23[0][0]              \n",
      "____________________________________________________________________________________________________\n",
      "bn4a_branch2b (BatchNormalizatio (None, 256, 14, 14)   1024        res4a_branch2b[0][0]             \n",
      "____________________________________________________________________________________________________\n",
      "activation_24 (Activation)       (None, 256, 14, 14)   0           bn4a_branch2b[0][0]              \n",
      "____________________________________________________________________________________________________\n",
      "res4a_branch2c (Conv2D)          (None, 1024, 14, 14)  263168      activation_24[0][0]              \n",
      "____________________________________________________________________________________________________\n",
      "res4a_branch1 (Conv2D)           (None, 1024, 14, 14)  525312      activation_22[0][0]              \n",
      "____________________________________________________________________________________________________\n",
      "bn4a_branch2c (BatchNormalizatio (None, 1024, 14, 14)  4096        res4a_branch2c[0][0]             \n",
      "____________________________________________________________________________________________________\n",
      "bn4a_branch1 (BatchNormalization (None, 1024, 14, 14)  4096        res4a_branch1[0][0]              \n",
      "____________________________________________________________________________________________________\n",
      "add_8 (Add)                      (None, 1024, 14, 14)  0           bn4a_branch2c[0][0]              \n",
      "                                                                   bn4a_branch1[0][0]               \n",
      "____________________________________________________________________________________________________\n",
      "activation_25 (Activation)       (None, 1024, 14, 14)  0           add_8[0][0]                      \n",
      "____________________________________________________________________________________________________\n",
      "res4b_branch2a (Conv2D)          (None, 256, 14, 14)   262400      activation_25[0][0]              \n",
      "____________________________________________________________________________________________________\n",
      "bn4b_branch2a (BatchNormalizatio (None, 256, 14, 14)   1024        res4b_branch2a[0][0]             \n",
      "____________________________________________________________________________________________________\n",
      "activation_26 (Activation)       (None, 256, 14, 14)   0           bn4b_branch2a[0][0]              \n",
      "____________________________________________________________________________________________________\n",
      "res4b_branch2b (Conv2D)          (None, 256, 14, 14)   590080      activation_26[0][0]              \n",
      "____________________________________________________________________________________________________\n",
      "bn4b_branch2b (BatchNormalizatio (None, 256, 14, 14)   1024        res4b_branch2b[0][0]             \n",
      "____________________________________________________________________________________________________\n",
      "activation_27 (Activation)       (None, 256, 14, 14)   0           bn4b_branch2b[0][0]              \n",
      "____________________________________________________________________________________________________\n",
      "res4b_branch2c (Conv2D)          (None, 1024, 14, 14)  263168      activation_27[0][0]              \n",
      "____________________________________________________________________________________________________\n",
      "bn4b_branch2c (BatchNormalizatio (None, 1024, 14, 14)  4096        res4b_branch2c[0][0]             \n",
      "____________________________________________________________________________________________________\n",
      "add_9 (Add)                      (None, 1024, 14, 14)  0           bn4b_branch2c[0][0]              \n",
      "                                                                   activation_25[0][0]              \n",
      "____________________________________________________________________________________________________\n",
      "activation_28 (Activation)       (None, 1024, 14, 14)  0           add_9[0][0]                      \n",
      "____________________________________________________________________________________________________\n",
      "res4c_branch2a (Conv2D)          (None, 256, 14, 14)   262400      activation_28[0][0]              \n",
      "____________________________________________________________________________________________________\n",
      "bn4c_branch2a (BatchNormalizatio (None, 256, 14, 14)   1024        res4c_branch2a[0][0]             \n",
      "____________________________________________________________________________________________________\n",
      "activation_29 (Activation)       (None, 256, 14, 14)   0           bn4c_branch2a[0][0]              \n",
      "____________________________________________________________________________________________________\n",
      "res4c_branch2b (Conv2D)          (None, 256, 14, 14)   590080      activation_29[0][0]              \n",
      "____________________________________________________________________________________________________\n",
      "bn4c_branch2b (BatchNormalizatio (None, 256, 14, 14)   1024        res4c_branch2b[0][0]             \n",
      "____________________________________________________________________________________________________\n",
      "activation_30 (Activation)       (None, 256, 14, 14)   0           bn4c_branch2b[0][0]              \n",
      "____________________________________________________________________________________________________\n",
      "res4c_branch2c (Conv2D)          (None, 1024, 14, 14)  263168      activation_30[0][0]              \n",
      "____________________________________________________________________________________________________\n",
      "bn4c_branch2c (BatchNormalizatio (None, 1024, 14, 14)  4096        res4c_branch2c[0][0]             \n",
      "____________________________________________________________________________________________________\n",
      "add_10 (Add)                     (None, 1024, 14, 14)  0           bn4c_branch2c[0][0]              \n",
      "                                                                   activation_28[0][0]              \n",
      "____________________________________________________________________________________________________\n",
      "activation_31 (Activation)       (None, 1024, 14, 14)  0           add_10[0][0]                     \n",
      "____________________________________________________________________________________________________\n",
      "res4d_branch2a (Conv2D)          (None, 256, 14, 14)   262400      activation_31[0][0]              \n",
      "____________________________________________________________________________________________________\n",
      "bn4d_branch2a (BatchNormalizatio (None, 256, 14, 14)   1024        res4d_branch2a[0][0]             \n",
      "____________________________________________________________________________________________________\n",
      "activation_32 (Activation)       (None, 256, 14, 14)   0           bn4d_branch2a[0][0]              \n",
      "____________________________________________________________________________________________________\n",
      "res4d_branch2b (Conv2D)          (None, 256, 14, 14)   590080      activation_32[0][0]              \n",
      "____________________________________________________________________________________________________\n",
      "bn4d_branch2b (BatchNormalizatio (None, 256, 14, 14)   1024        res4d_branch2b[0][0]             \n",
      "____________________________________________________________________________________________________\n",
      "activation_33 (Activation)       (None, 256, 14, 14)   0           bn4d_branch2b[0][0]              \n",
      "____________________________________________________________________________________________________\n",
      "res4d_branch2c (Conv2D)          (None, 1024, 14, 14)  263168      activation_33[0][0]              \n",
      "____________________________________________________________________________________________________\n",
      "bn4d_branch2c (BatchNormalizatio (None, 1024, 14, 14)  4096        res4d_branch2c[0][0]             \n",
      "____________________________________________________________________________________________________\n",
      "add_11 (Add)                     (None, 1024, 14, 14)  0           bn4d_branch2c[0][0]              \n",
      "                                                                   activation_31[0][0]              \n",
      "____________________________________________________________________________________________________\n",
      "activation_34 (Activation)       (None, 1024, 14, 14)  0           add_11[0][0]                     \n",
      "____________________________________________________________________________________________________\n",
      "res4e_branch2a (Conv2D)          (None, 256, 14, 14)   262400      activation_34[0][0]              \n",
      "____________________________________________________________________________________________________\n",
      "bn4e_branch2a (BatchNormalizatio (None, 256, 14, 14)   1024        res4e_branch2a[0][0]             \n",
      "____________________________________________________________________________________________________\n",
      "activation_35 (Activation)       (None, 256, 14, 14)   0           bn4e_branch2a[0][0]              \n",
      "____________________________________________________________________________________________________\n"
     ]
    },
    {
     "name": "stdout",
     "output_type": "stream",
     "text": [
      "res4e_branch2b (Conv2D)          (None, 256, 14, 14)   590080      activation_35[0][0]              \n",
      "____________________________________________________________________________________________________\n",
      "bn4e_branch2b (BatchNormalizatio (None, 256, 14, 14)   1024        res4e_branch2b[0][0]             \n",
      "____________________________________________________________________________________________________\n",
      "activation_36 (Activation)       (None, 256, 14, 14)   0           bn4e_branch2b[0][0]              \n",
      "____________________________________________________________________________________________________\n",
      "res4e_branch2c (Conv2D)          (None, 1024, 14, 14)  263168      activation_36[0][0]              \n",
      "____________________________________________________________________________________________________\n",
      "bn4e_branch2c (BatchNormalizatio (None, 1024, 14, 14)  4096        res4e_branch2c[0][0]             \n",
      "____________________________________________________________________________________________________\n",
      "add_12 (Add)                     (None, 1024, 14, 14)  0           bn4e_branch2c[0][0]              \n",
      "                                                                   activation_34[0][0]              \n",
      "____________________________________________________________________________________________________\n",
      "activation_37 (Activation)       (None, 1024, 14, 14)  0           add_12[0][0]                     \n",
      "____________________________________________________________________________________________________\n",
      "res4f_branch2a (Conv2D)          (None, 256, 14, 14)   262400      activation_37[0][0]              \n",
      "____________________________________________________________________________________________________\n",
      "bn4f_branch2a (BatchNormalizatio (None, 256, 14, 14)   1024        res4f_branch2a[0][0]             \n",
      "____________________________________________________________________________________________________\n",
      "activation_38 (Activation)       (None, 256, 14, 14)   0           bn4f_branch2a[0][0]              \n",
      "____________________________________________________________________________________________________\n",
      "res4f_branch2b (Conv2D)          (None, 256, 14, 14)   590080      activation_38[0][0]              \n",
      "____________________________________________________________________________________________________\n",
      "bn4f_branch2b (BatchNormalizatio (None, 256, 14, 14)   1024        res4f_branch2b[0][0]             \n",
      "____________________________________________________________________________________________________\n",
      "activation_39 (Activation)       (None, 256, 14, 14)   0           bn4f_branch2b[0][0]              \n",
      "____________________________________________________________________________________________________\n",
      "res4f_branch2c (Conv2D)          (None, 1024, 14, 14)  263168      activation_39[0][0]              \n",
      "____________________________________________________________________________________________________\n",
      "bn4f_branch2c (BatchNormalizatio (None, 1024, 14, 14)  4096        res4f_branch2c[0][0]             \n",
      "____________________________________________________________________________________________________\n",
      "add_13 (Add)                     (None, 1024, 14, 14)  0           bn4f_branch2c[0][0]              \n",
      "                                                                   activation_37[0][0]              \n",
      "____________________________________________________________________________________________________\n",
      "activation_40 (Activation)       (None, 1024, 14, 14)  0           add_13[0][0]                     \n",
      "____________________________________________________________________________________________________\n",
      "res5a_branch2a (Conv2D)          (None, 512, 7, 7)     524800      activation_40[0][0]              \n",
      "____________________________________________________________________________________________________\n",
      "bn5a_branch2a (BatchNormalizatio (None, 512, 7, 7)     2048        res5a_branch2a[0][0]             \n",
      "____________________________________________________________________________________________________\n",
      "activation_41 (Activation)       (None, 512, 7, 7)     0           bn5a_branch2a[0][0]              \n",
      "____________________________________________________________________________________________________\n",
      "res5a_branch2b (Conv2D)          (None, 512, 7, 7)     2359808     activation_41[0][0]              \n",
      "____________________________________________________________________________________________________\n",
      "bn5a_branch2b (BatchNormalizatio (None, 512, 7, 7)     2048        res5a_branch2b[0][0]             \n",
      "____________________________________________________________________________________________________\n",
      "activation_42 (Activation)       (None, 512, 7, 7)     0           bn5a_branch2b[0][0]              \n",
      "____________________________________________________________________________________________________\n",
      "res5a_branch2c (Conv2D)          (None, 2048, 7, 7)    1050624     activation_42[0][0]              \n",
      "____________________________________________________________________________________________________\n",
      "res5a_branch1 (Conv2D)           (None, 2048, 7, 7)    2099200     activation_40[0][0]              \n",
      "____________________________________________________________________________________________________\n",
      "bn5a_branch2c (BatchNormalizatio (None, 2048, 7, 7)    8192        res5a_branch2c[0][0]             \n",
      "____________________________________________________________________________________________________\n",
      "bn5a_branch1 (BatchNormalization (None, 2048, 7, 7)    8192        res5a_branch1[0][0]              \n",
      "____________________________________________________________________________________________________\n",
      "add_14 (Add)                     (None, 2048, 7, 7)    0           bn5a_branch2c[0][0]              \n",
      "                                                                   bn5a_branch1[0][0]               \n",
      "____________________________________________________________________________________________________\n",
      "activation_43 (Activation)       (None, 2048, 7, 7)    0           add_14[0][0]                     \n",
      "____________________________________________________________________________________________________\n",
      "res5b_branch2a (Conv2D)          (None, 512, 7, 7)     1049088     activation_43[0][0]              \n",
      "____________________________________________________________________________________________________\n",
      "bn5b_branch2a (BatchNormalizatio (None, 512, 7, 7)     2048        res5b_branch2a[0][0]             \n",
      "____________________________________________________________________________________________________\n",
      "activation_44 (Activation)       (None, 512, 7, 7)     0           bn5b_branch2a[0][0]              \n",
      "____________________________________________________________________________________________________\n",
      "res5b_branch2b (Conv2D)          (None, 512, 7, 7)     2359808     activation_44[0][0]              \n",
      "____________________________________________________________________________________________________\n",
      "bn5b_branch2b (BatchNormalizatio (None, 512, 7, 7)     2048        res5b_branch2b[0][0]             \n",
      "____________________________________________________________________________________________________\n",
      "activation_45 (Activation)       (None, 512, 7, 7)     0           bn5b_branch2b[0][0]              \n",
      "____________________________________________________________________________________________________\n",
      "res5b_branch2c (Conv2D)          (None, 2048, 7, 7)    1050624     activation_45[0][0]              \n",
      "____________________________________________________________________________________________________\n",
      "bn5b_branch2c (BatchNormalizatio (None, 2048, 7, 7)    8192        res5b_branch2c[0][0]             \n",
      "____________________________________________________________________________________________________\n",
      "add_15 (Add)                     (None, 2048, 7, 7)    0           bn5b_branch2c[0][0]              \n",
      "                                                                   activation_43[0][0]              \n",
      "____________________________________________________________________________________________________\n",
      "activation_46 (Activation)       (None, 2048, 7, 7)    0           add_15[0][0]                     \n",
      "____________________________________________________________________________________________________\n",
      "res5c_branch2a (Conv2D)          (None, 512, 7, 7)     1049088     activation_46[0][0]              \n",
      "____________________________________________________________________________________________________\n",
      "bn5c_branch2a (BatchNormalizatio (None, 512, 7, 7)     2048        res5c_branch2a[0][0]             \n",
      "____________________________________________________________________________________________________\n",
      "activation_47 (Activation)       (None, 512, 7, 7)     0           bn5c_branch2a[0][0]              \n",
      "____________________________________________________________________________________________________\n"
     ]
    },
    {
     "name": "stdout",
     "output_type": "stream",
     "text": [
      "res5c_branch2b (Conv2D)          (None, 512, 7, 7)     2359808     activation_47[0][0]              \n",
      "____________________________________________________________________________________________________\n",
      "bn5c_branch2b (BatchNormalizatio (None, 512, 7, 7)     2048        res5c_branch2b[0][0]             \n",
      "____________________________________________________________________________________________________\n",
      "activation_48 (Activation)       (None, 512, 7, 7)     0           bn5c_branch2b[0][0]              \n",
      "____________________________________________________________________________________________________\n",
      "res5c_branch2c (Conv2D)          (None, 2048, 7, 7)    1050624     activation_48[0][0]              \n",
      "____________________________________________________________________________________________________\n",
      "bn5c_branch2c (BatchNormalizatio (None, 2048, 7, 7)    8192        res5c_branch2c[0][0]             \n",
      "____________________________________________________________________________________________________\n",
      "add_16 (Add)                     (None, 2048, 7, 7)    0           bn5c_branch2c[0][0]              \n",
      "                                                                   activation_46[0][0]              \n",
      "____________________________________________________________________________________________________\n",
      "activation_49 (Activation)       (None, 2048, 7, 7)    0           add_16[0][0]                     \n",
      "____________________________________________________________________________________________________\n",
      "avg_pool (AveragePooling2D)      (None, 2048, 1, 1)    0           activation_49[0][0]              \n",
      "====================================================================================================\n",
      "Total params: 23,587,712\n",
      "Trainable params: 23,534,592\n",
      "Non-trainable params: 53,120\n",
      "____________________________________________________________________________________________________\n"
     ]
    }
   ],
   "source": [
    "resnet_model.summary()"
   ]
  },
  {
   "cell_type": "code",
   "execution_count": null,
   "metadata": {
    "hidden": true
   },
   "outputs": [],
   "source": [
    "def save_array(fname, arr): \n",
    "    c=bcolz.carray(arr, rootdir=fname, mode='w')\n",
    "    c.flush()\n",
    "    \n",
    "def load_array(fname): \n",
    "    return bcolz.open(fname)[:]\n",
    "\n",
    "def save_resnet_vecs(vec_fname, img_name_fname, folder):\n",
    "    gen = ImageDataGenerator(preprocessing_function=preprocess_input)\n",
    "    batches = gen.flow_from_directory(folder, \n",
    "                                      target_size=(224, 224), \n",
    "                                      batch_size=64, \n",
    "                                      class_mode=None,\n",
    "                                      shuffle=False)\n",
    "    inp = resnet_model.input\n",
    "    out = resnet_model.get_layer('res5c_branch2c').output\n",
    "\n",
    "    model = Model(inputs=inp, outputs=out)\n",
    "    vecs = model.predict_generator(batches, steps=(batches.samples + batches.batch_size) \n",
    "                                          // batches.batch_size)\n",
    "    save_array(vec_fname, vecs)\n",
    "    save_array(img_name_fname, batches.filenames)\n",
    "    \n",
    "def load_resnet_vecs(vec_fname, img_name_fname):\n",
    "    return load_array(img_name_fname), load_array(vec_fname)\n",
    "    \n",
    "save_resnet_vecs('vecs_inter', 'img_name_inter', '../data/labeled')"
   ]
  },
  {
   "cell_type": "code",
   "execution_count": null,
   "metadata": {
    "hidden": true
   },
   "outputs": [],
   "source": [
    "fnames, vecs = load_resnet_vecs('vecs_inter', 'img_name_inter')\n",
    "df = pd.read_csv('../data/labels.csv')\n",
    "\n",
    "labels = np.array([df[df['imgs'] == x[5:]].iat[0, 1] for x in fnames])\n",
    "np.random.seed(123)"
   ]
  },
  {
   "cell_type": "code",
   "execution_count": 291,
   "metadata": {
    "hidden": true
   },
   "outputs": [],
   "source": [
    "vecs_lin = vecs.reshape(200, 100352)"
   ]
  },
  {
   "cell_type": "code",
   "execution_count": 294,
   "metadata": {
    "hidden": true
   },
   "outputs": [
    {
     "data": {
      "text/plain": [
       "(array([-1.20611439, -2.17058301, -1.09476578, -3.03697043, -1.55469707]),\n",
       " -1.8126261356719566,\n",
       " 0.71789406796078514)"
      ]
     },
     "execution_count": 294,
     "metadata": {},
     "output_type": "execute_result"
    }
   ],
   "source": [
    "regr = linear_model.Ridge(alpha = 1)\n",
    "scores = cross_val_score(regr, vecs_lin, labels, cv=5, scoring='neg_mean_squared_error')\n",
    "scores, np.mean(scores), np.std(scores)"
   ]
  },
  {
   "cell_type": "markdown",
   "metadata": {
    "heading_collapsed": true
   },
   "source": [
    "# Training LR on image pixels"
   ]
  },
  {
   "cell_type": "code",
   "execution_count": 298,
   "metadata": {
    "hidden": true
   },
   "outputs": [
    {
     "name": "stdout",
     "output_type": "stream",
     "text": [
      "Found 200 images belonging to 1 classes.\n"
     ]
    }
   ],
   "source": [
    "gen = ImageDataGenerator(preprocessing_function=preprocess_input)\n",
    "batches = gen.flow_from_directory('../data/labeled', \n",
    "                                  target_size=(224, 224), \n",
    "                                  batch_size=200, \n",
    "                                  class_mode=None,\n",
    "                                  shuffle=False)\n",
    "data = next(batches)"
   ]
  },
  {
   "cell_type": "code",
   "execution_count": 299,
   "metadata": {
    "hidden": true
   },
   "outputs": [
    {
     "data": {
      "text/plain": [
       "(200, 3, 224, 224)"
      ]
     },
     "execution_count": 299,
     "metadata": {},
     "output_type": "execute_result"
    }
   ],
   "source": [
    "data.shape"
   ]
  },
  {
   "cell_type": "code",
   "execution_count": 300,
   "metadata": {
    "hidden": true
   },
   "outputs": [],
   "source": [
    "vecs_lin = data.reshape(200, 150528)"
   ]
  },
  {
   "cell_type": "code",
   "execution_count": 303,
   "metadata": {
    "hidden": true
   },
   "outputs": [
    {
     "name": "stderr",
     "output_type": "stream",
     "text": [
      "/home/nighturs/Projects/pool-cnn/env/lib/python3.6/site-packages/scipy/linalg/basic.py:223: RuntimeWarning: scipy.linalg.solve\n",
      "Ill-conditioned matrix detected. Result is not guaranteed to be accurate.\n",
      "Reciprocal condition number: 4.637792649919703e-10\n",
      "  ' condition number: {}'.format(rcond), RuntimeWarning)\n",
      "/home/nighturs/Projects/pool-cnn/env/lib/python3.6/site-packages/scipy/linalg/basic.py:223: RuntimeWarning: scipy.linalg.solve\n",
      "Ill-conditioned matrix detected. Result is not guaranteed to be accurate.\n",
      "Reciprocal condition number: 5.387444379501005e-10\n",
      "  ' condition number: {}'.format(rcond), RuntimeWarning)\n",
      "/home/nighturs/Projects/pool-cnn/env/lib/python3.6/site-packages/scipy/linalg/basic.py:223: RuntimeWarning: scipy.linalg.solve\n",
      "Ill-conditioned matrix detected. Result is not guaranteed to be accurate.\n",
      "Reciprocal condition number: 7.738502061371832e-10\n",
      "  ' condition number: {}'.format(rcond), RuntimeWarning)\n",
      "/home/nighturs/Projects/pool-cnn/env/lib/python3.6/site-packages/scipy/linalg/basic.py:223: RuntimeWarning: scipy.linalg.solve\n",
      "Ill-conditioned matrix detected. Result is not guaranteed to be accurate.\n",
      "Reciprocal condition number: 9.070002526812004e-10\n",
      "  ' condition number: {}'.format(rcond), RuntimeWarning)\n",
      "/home/nighturs/Projects/pool-cnn/env/lib/python3.6/site-packages/scipy/linalg/basic.py:223: RuntimeWarning: scipy.linalg.solve\n",
      "Ill-conditioned matrix detected. Result is not guaranteed to be accurate.\n",
      "Reciprocal condition number: 4.5137260595851103e-10\n",
      "  ' condition number: {}'.format(rcond), RuntimeWarning)\n",
      "/home/nighturs/Projects/pool-cnn/env/lib/python3.6/site-packages/scipy/linalg/basic.py:223: RuntimeWarning: scipy.linalg.solve\n",
      "Ill-conditioned matrix detected. Result is not guaranteed to be accurate.\n",
      "Reciprocal condition number: 7.262606627200796e-10\n",
      "  ' condition number: {}'.format(rcond), RuntimeWarning)\n",
      "/home/nighturs/Projects/pool-cnn/env/lib/python3.6/site-packages/scipy/linalg/basic.py:223: RuntimeWarning: scipy.linalg.solve\n",
      "Ill-conditioned matrix detected. Result is not guaranteed to be accurate.\n",
      "Reciprocal condition number: 2.8255982623126563e-11\n",
      "  ' condition number: {}'.format(rcond), RuntimeWarning)\n",
      "/home/nighturs/Projects/pool-cnn/env/lib/python3.6/site-packages/scipy/linalg/basic.py:223: RuntimeWarning: scipy.linalg.solve\n",
      "Ill-conditioned matrix detected. Result is not guaranteed to be accurate.\n",
      "Reciprocal condition number: 1.3081242755674793e-09\n",
      "  ' condition number: {}'.format(rcond), RuntimeWarning)\n",
      "/home/nighturs/Projects/pool-cnn/env/lib/python3.6/site-packages/scipy/linalg/basic.py:223: RuntimeWarning: scipy.linalg.solve\n",
      "Ill-conditioned matrix detected. Result is not guaranteed to be accurate.\n",
      "Reciprocal condition number: 3.258223135738092e-10\n",
      "  ' condition number: {}'.format(rcond), RuntimeWarning)\n",
      "/home/nighturs/Projects/pool-cnn/env/lib/python3.6/site-packages/scipy/linalg/basic.py:223: RuntimeWarning: scipy.linalg.solve\n",
      "Ill-conditioned matrix detected. Result is not guaranteed to be accurate.\n",
      "Reciprocal condition number: 9.190718741614035e-10\n",
      "  ' condition number: {}'.format(rcond), RuntimeWarning)\n"
     ]
    },
    {
     "data": {
      "text/plain": [
       "(array([-1.39252937, -2.35484155, -2.69914397, -3.24689025, -1.09135875,\n",
       "        -1.07962793, -5.26584595, -4.0765285 , -1.58352768, -1.93104581]),\n",
       " -2.472133977691076,\n",
       " 1.3091219837137371)"
      ]
     },
     "execution_count": 303,
     "metadata": {},
     "output_type": "execute_result"
    }
   ],
   "source": [
    "regr = linear_model.Ridge(alpha = 100)\n",
    "scores = cross_val_score(regr, vecs_lin, labels, cv=10, scoring='neg_mean_squared_error')\n",
    "scores, np.mean(scores), np.std(scores)"
   ]
  },
  {
   "cell_type": "markdown",
   "metadata": {
    "heading_collapsed": true
   },
   "source": [
    "# Area averaging architecture"
   ]
  },
  {
   "cell_type": "code",
   "execution_count": 2,
   "metadata": {
    "hidden": true
   },
   "outputs": [
    {
     "name": "stdout",
     "output_type": "stream",
     "text": [
      "Found 200 images belonging to 1 classes.\n"
     ]
    }
   ],
   "source": [
    "fnames, vecs = load_resnet_vecs('vecs', 'img_name')\n",
    "df = pd.read_csv('../data/labels.csv')\n",
    "\n",
    "labels = np.array([df[df['imgs'] == x[5:]].iat[0, 1] for x in fnames])\n",
    "np.random.seed(123)\n",
    "\n",
    "gen = ImageDataGenerator(preprocessing_function=preprocess_input)\n",
    "batches = gen.flow_from_directory('../data/labeled', \n",
    "                                  target_size=(800, 1280), \n",
    "                                  batch_size=200, \n",
    "                                  class_mode=None,\n",
    "                                  shuffle=False)\n",
    "data = next(batches)"
   ]
  },
  {
   "cell_type": "code",
   "execution_count": null,
   "metadata": {
    "hidden": true
   },
   "outputs": [
    {
     "name": "stdout",
     "output_type": "stream",
     "text": [
      "_________________________________________________________________\n",
      "Layer (type)                 Output Shape              Param #   \n",
      "=================================================================\n",
      "input_1 (InputLayer)         (None, 3, 800, 1280)      0         \n",
      "_________________________________________________________________\n",
      "conv2d_1 (Conv2D)            (None, 1, 800, 1280)      4         \n",
      "_________________________________________________________________\n",
      "average_pooling2d_1 (Average (None, 1, 40, 64)         0         \n",
      "_________________________________________________________________\n",
      "flatten_1 (Flatten)          (None, 2560)              0         \n",
      "_________________________________________________________________\n",
      "dense_1 (Dense)              (None, 1)                 2561      \n",
      "=================================================================\n",
      "Total params: 2,565\n",
      "Trainable params: 2,565\n",
      "Non-trainable params: 0\n",
      "_________________________________________________________________\n",
      "Train on 180 samples, validate on 20 samples\n",
      "Epoch 1/100\n",
      "180/180 [==============================] - 6s - loss: 16.7012 - val_loss: 16.2308\n",
      "Epoch 2/100\n",
      "180/180 [==============================] - 6s - loss: 14.9338 - val_loss: 6.0970\n",
      "Epoch 3/100\n",
      "180/180 [==============================] - 6s - loss: 6.5594 - val_loss: 13.4462\n",
      "Epoch 4/100\n",
      "180/180 [==============================] - 6s - loss: 9.5837 - val_loss: 8.3060\n",
      "Epoch 5/100\n",
      "180/180 [==============================] - 6s - loss: 5.7059 - val_loss: 7.1941\n",
      "Epoch 6/100\n",
      "180/180 [==============================] - 6s - loss: 6.8929 - val_loss: 6.8519\n",
      "Epoch 7/100\n",
      "180/180 [==============================] - 6s - loss: 5.1751 - val_loss: 7.3643\n",
      "Epoch 8/100\n",
      "180/180 [==============================] - 6s - loss: 5.1510 - val_loss: 7.8858\n",
      "Epoch 9/100\n",
      "180/180 [==============================] - 6s - loss: 4.6066 - val_loss: 6.2086\n",
      "Epoch 10/100\n",
      "180/180 [==============================] - 6s - loss: 4.6252 - val_loss: 6.5329\n",
      "Epoch 11/100\n",
      "180/180 [==============================] - 6s - loss: 4.3505 - val_loss: 6.0099\n",
      "Epoch 12/100\n",
      "180/180 [==============================] - 6s - loss: 3.6818 - val_loss: 6.8075\n",
      "Epoch 13/100\n",
      "180/180 [==============================] - 6s - loss: 3.8658 - val_loss: 5.9890\n",
      "Epoch 14/100\n",
      "180/180 [==============================] - 6s - loss: 3.3018 - val_loss: 5.6287\n",
      "Epoch 15/100\n",
      "180/180 [==============================] - 6s - loss: 3.3312 - val_loss: 5.5757\n",
      "Epoch 16/100\n",
      "180/180 [==============================] - 6s - loss: 2.9884 - val_loss: 5.8708\n",
      "Epoch 17/100\n",
      "180/180 [==============================] - 6s - loss: 2.9430 - val_loss: 5.7960\n",
      "Epoch 18/100\n",
      "180/180 [==============================] - 6s - loss: 2.7401 - val_loss: 5.5999\n",
      "Epoch 19/100\n",
      "180/180 [==============================] - 6s - loss: 2.6404 - val_loss: 5.6458\n",
      "Epoch 20/100\n",
      "180/180 [==============================] - 6s - loss: 2.5151 - val_loss: 5.6005\n",
      "Epoch 21/100\n",
      "180/180 [==============================] - 6s - loss: 2.3363 - val_loss: 5.7235\n",
      "Epoch 22/100\n",
      "180/180 [==============================] - 6s - loss: 2.2720 - val_loss: 5.5940\n",
      "Epoch 23/100\n",
      "180/180 [==============================] - 7s - loss: 2.1522 - val_loss: 5.4825\n",
      "Epoch 24/100\n",
      "180/180 [==============================] - 6s - loss: 2.0683 - val_loss: 5.4710\n",
      "Epoch 25/100\n",
      "180/180 [==============================] - 6s - loss: 1.9478 - val_loss: 5.4872\n",
      "Epoch 26/100\n",
      "180/180 [==============================] - 6s - loss: 1.8801 - val_loss: 5.3189\n",
      "Epoch 27/100\n",
      "180/180 [==============================] - 6s - loss: 1.7814 - val_loss: 5.3019\n",
      "Epoch 28/100\n",
      "180/180 [==============================] - 6s - loss: 1.7007 - val_loss: 5.3227\n",
      "Epoch 29/100\n",
      "180/180 [==============================] - 6s - loss: 1.6261 - val_loss: 5.3512\n",
      "Epoch 30/100\n",
      "180/180 [==============================] - 6s - loss: 1.5486 - val_loss: 5.2810\n",
      "Epoch 31/100\n",
      "180/180 [==============================] - 6s - loss: 1.5118 - val_loss: 5.2704\n",
      "Epoch 32/100\n",
      "180/180 [==============================] - 6s - loss: 1.4191 - val_loss: 5.2843\n",
      "Epoch 33/100\n",
      "180/180 [==============================] - 6s - loss: 1.3949 - val_loss: 5.2337\n",
      "Epoch 34/100\n",
      "180/180 [==============================] - 7s - loss: 1.2890 - val_loss: 5.1952\n",
      "Epoch 35/100\n",
      "180/180 [==============================] - 6s - loss: 1.2665 - val_loss: 5.1477\n",
      "Epoch 36/100\n",
      " 64/180 [=========>....................] - ETA: 4s - loss: 1.4337"
     ]
    }
   ],
   "source": [
    "inp = Input((3,800,1280))\n",
    "x = Conv2D(1, (1, 1), padding='same', activation='relu')(inp)\n",
    "x = AveragePooling2D((20, 20))(x)\n",
    "x = Flatten()(x)\n",
    "x = Dense(1)(x)\n",
    "model = Model(inp, x)\n",
    "model.compile(optimizer='adam', loss='mse')\n",
    "model.summary()\n",
    "\n",
    "model.fit(data[:-20], labels[:-20], validation_data=(data[-20:], labels[-20:]), batch_size=64, epochs=100)"
   ]
  }
 ],
 "metadata": {
  "kernelspec": {
   "display_name": "Python 3",
   "language": "python",
   "name": "python3"
  },
  "language_info": {
   "codemirror_mode": {
    "name": "ipython",
    "version": 3
   },
   "file_extension": ".py",
   "mimetype": "text/x-python",
   "name": "python",
   "nbconvert_exporter": "python",
   "pygments_lexer": "ipython3",
   "version": "3.6.2"
  }
 },
 "nbformat": 4,
 "nbformat_minor": 2
}
